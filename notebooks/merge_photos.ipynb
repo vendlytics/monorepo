{
 "cells": [
  {
   "cell_type": "markdown",
   "metadata": {},
   "source": [
    "# Purpose\n",
    "\n",
    "Of this is to merge a bunch of photos together to specify the colour and depth images for calibrating."
   ]
  },
  {
   "cell_type": "code",
   "execution_count": 25,
   "metadata": {},
   "outputs": [],
   "source": [
    "import cv2\n",
    "import os\n",
    "\n",
    "image_folder = 'output'\n",
    "video_name = 'color_video.avi'\n",
    "\n",
    "\n",
    "def take_frame_num(x):\n",
    "    return int(x.split('_')[2].split('.')[0])\n",
    "\n",
    "images = [img for img in os.listdir(image_folder) if img.startswith(\"hello_Color\")]\n",
    "images = sorted(images, key=take_frame_num)\n",
    "\n",
    "frame = cv2.imread(os.path.join(image_folder, images[0]))\n",
    "height, width, layers = frame.shape\n",
    "\n",
    "video = cv2.VideoWriter(video_name, 0, 15, (width,height))\n",
    "\n",
    "for image in images:\n",
    "    image_file = image\n",
    "    image = cv2.imread(os.path.join(image_folder, image))\n",
    "    image = cv2.putText(image, image_file, (int(width/2), int(height/2)), cv2.FONT_HERSHEY_PLAIN, 2, (0, 255, 0), thickness=3)\n",
    "    video.write(image)\n",
    "\n",
    "cv2.destroyAllWindows()\n",
    "video.release()"
   ]
  },
  {
   "cell_type": "code",
   "execution_count": 27,
   "metadata": {},
   "outputs": [],
   "source": [
    "import cv2\n",
    "import os\n",
    "\n",
    "image_folder = 'output'\n",
    "video_name = 'depth_video.avi'\n",
    "\n",
    "\n",
    "def take_frame_num(x):\n",
    "    return int(x.split('_')[2].split('.')[0])\n",
    "\n",
    "images = [img for img in os.listdir(image_folder) if img.startswith(\"hello_Depth\") and img.endswith(\".png\")]\n",
    "images = sorted(images, key=take_frame_num)\n",
    "\n",
    "frame = cv2.imread(os.path.join(image_folder, images[0]))\n",
    "height, width, layers = frame.shape\n",
    "\n",
    "video = cv2.VideoWriter(video_name, 0, 30, (width,height))\n",
    "\n",
    "for image in images:\n",
    "    image_file = image\n",
    "    image = cv2.imread(os.path.join(image_folder, image))\n",
    "    image = cv2.putText(image, image_file, (int(width/2), int(height/2)), cv2.FONT_HERSHEY_PLAIN, 2, (0, 255, 0), thickness=3)\n",
    "    video.write(image)\n",
    "\n",
    "cv2.destroyAllWindows()\n",
    "video.release()"
   ]
  },
  {
   "cell_type": "code",
   "execution_count": null,
   "metadata": {},
   "outputs": [],
   "source": []
  }
 ],
 "metadata": {
  "kernelspec": {
   "display_name": "Python 3",
   "language": "python",
   "name": "python3"
  },
  "language_info": {
   "codemirror_mode": {
    "name": "ipython",
    "version": 3
   },
   "file_extension": ".py",
   "mimetype": "text/x-python",
   "name": "python",
   "nbconvert_exporter": "python",
   "pygments_lexer": "ipython3",
   "version": "3.6.5"
  }
 },
 "nbformat": 4,
 "nbformat_minor": 2
}
